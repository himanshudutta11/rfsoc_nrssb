{
 "cells": [
  {
   "cell_type": "code",
   "execution_count": 1,
   "id": "82afb267-0bad-4f75-b6a1-5bf4d2cdfbd0",
   "metadata": {
    "extensions": {
     "jupyter_dashboards": {
      "activeView": "grid_default",
      "views": {
       "grid_default": {
        "col": null,
        "height": 2,
        "hidden": true,
        "locked": true,
        "row": null,
        "width": 2
       }
      }
     }
    }
   },
   "outputs": [],
   "source": [
    "from rfsoc_nrssb.overlay import Overlay"
   ]
  },
  {
   "cell_type": "code",
   "execution_count": 2,
   "id": "e088b536-cfb9-4960-918e-518e2cf18190",
   "metadata": {
    "extensions": {
     "jupyter_dashboards": {
      "activeView": "grid_default",
      "views": {
       "grid_default": {
        "col": null,
        "height": 2,
        "hidden": true,
        "locked": true,
        "row": null,
        "width": 2
       }
      }
     }
    }
   },
   "outputs": [
    {
     "data": {
      "application/javascript": [
       "\n",
       "try {\n",
       "require(['notebook/js/codecell'], function(codecell) {\n",
       "  codecell.CodeCell.options_default.highlight_modes[\n",
       "      'magic_text/x-csrc'] = {'reg':[/^%%microblaze/]};\n",
       "  Jupyter.notebook.events.one('kernel_ready.Kernel', function(){\n",
       "      Jupyter.notebook.get_cells().map(function(cell){\n",
       "          if (cell.cell_type == 'code'){ cell.auto_highlight(); } }) ;\n",
       "  });\n",
       "});\n",
       "} catch (e) {};\n"
      ]
     },
     "metadata": {},
     "output_type": "display_data"
    },
    {
     "data": {
      "application/javascript": [
       "\n",
       "try {\n",
       "require(['notebook/js/codecell'], function(codecell) {\n",
       "  codecell.CodeCell.options_default.highlight_modes[\n",
       "      'magic_text/x-csrc'] = {'reg':[/^%%pybind11/]};\n",
       "  Jupyter.notebook.events.one('kernel_ready.Kernel', function(){\n",
       "      Jupyter.notebook.get_cells().map(function(cell){\n",
       "          if (cell.cell_type == 'code'){ cell.auto_highlight(); } }) ;\n",
       "  });\n",
       "});\n",
       "} catch (e) {};\n"
      ]
     },
     "metadata": {},
     "output_type": "display_data"
    }
   ],
   "source": [
    "nrssb = Overlay()"
   ]
  },
  {
   "cell_type": "code",
   "execution_count": 3,
   "id": "1ebef0d8-6cc9-42d9-b31f-c8770ea497ea",
   "metadata": {
    "extensions": {
     "jupyter_dashboards": {
      "activeView": "grid_default",
      "views": {
       "grid_default": {
        "col": null,
        "height": 2,
        "hidden": true,
        "locked": true,
        "row": null,
        "width": 2
       }
      }
     }
    }
   },
   "outputs": [
    {
     "data": {
      "text/plain": [
       "{'Freq': -600.0,\n",
       " 'PhaseOffset': 0.0,\n",
       " 'EventSource': 2,\n",
       " 'CoarseMixFreq': 0,\n",
       " 'MixerMode': 3,\n",
       " 'FineMixerScale': 1,\n",
       " 'MixerType': 2}"
      ]
     },
     "execution_count": 3,
     "metadata": {},
     "output_type": "execute_result"
    }
   ],
   "source": [
    "nrssb.adc_block.MixerSettings"
   ]
  },
  {
   "cell_type": "code",
   "execution_count": 4,
   "id": "ef21df77-e2cb-4140-906e-f7f29c0788de",
   "metadata": {
    "extensions": {
     "jupyter_dashboards": {
      "activeView": "grid_default",
      "views": {
       "grid_default": {
        "col": null,
        "height": 2,
        "hidden": true,
        "locked": true,
        "row": null,
        "width": 2
       }
      }
     }
    }
   },
   "outputs": [],
   "source": [
    "nrssb.configure_adcs(centre_freq=1536)"
   ]
  },
  {
   "cell_type": "code",
   "execution_count": 5,
   "id": "3e20eac0-ec56-4abf-9489-d59dd87a3e4a",
   "metadata": {
    "extensions": {
     "jupyter_dashboards": {
      "activeView": "grid_default",
      "views": {
       "grid_default": {
        "col": null,
        "height": 2,
        "hidden": true,
        "locked": true,
        "row": null,
        "width": 2
       }
      }
     }
    }
   },
   "outputs": [
    {
     "data": {
      "text/plain": [
       "{'Freq': 1535.9999999999945,\n",
       " 'PhaseOffset': 0.0,\n",
       " 'EventSource': 2,\n",
       " 'CoarseMixFreq': 0,\n",
       " 'MixerMode': 3,\n",
       " 'FineMixerScale': 1,\n",
       " 'MixerType': 2}"
      ]
     },
     "execution_count": 5,
     "metadata": {},
     "output_type": "execute_result"
    }
   ],
   "source": [
    "nrssb.adc_block.MixerSettings"
   ]
  },
  {
   "cell_type": "code",
   "execution_count": 13,
   "id": "336c497c-c109-41cc-8b3a-313c3d0d540a",
   "metadata": {
    "extensions": {
     "jupyter_dashboards": {
      "activeView": "grid_default",
      "views": {
       "grid_default": {
        "col": null,
        "height": 2,
        "hidden": true,
        "locked": true,
        "row": null,
        "width": 2
       }
      }
     }
    }
   },
   "outputs": [
    {
     "ename": "RuntimeError",
     "evalue": "DMA channel not idle",
     "output_type": "error",
     "traceback": [
      "\u001b[0;31m---------------------------------------------------------------------------\u001b[0m",
      "\u001b[0;31mRuntimeError\u001b[0m                              Traceback (most recent call last)",
      "Input \u001b[0;32mIn [13]\u001b[0m, in \u001b[0;36m<cell line: 3>\u001b[0;34m()\u001b[0m\n\u001b[1;32m      1\u001b[0m \u001b[38;5;66;03m#nrssb.nrssb_application()\u001b[39;00m\n\u001b[1;32m      2\u001b[0m \u001b[38;5;66;03m#nrssb.inspector.constellation_plot()\u001b[39;00m\n\u001b[0;32m----> 3\u001b[0m \u001b[43mnrssb\u001b[49m\u001b[38;5;241;43m.\u001b[39;49m\u001b[43minspector\u001b[49m\u001b[38;5;241;43m.\u001b[39;49m\u001b[43maxi_dma\u001b[49m\u001b[38;5;241;43m.\u001b[39;49m\u001b[43mrecvchannel\u001b[49m\u001b[38;5;241;43m.\u001b[39;49m\u001b[43mtransfer\u001b[49m\u001b[43m(\u001b[49m\u001b[43mnrssb\u001b[49m\u001b[38;5;241;43m.\u001b[39;49m\u001b[43minspector\u001b[49m\u001b[38;5;241;43m.\u001b[39;49m\u001b[43mbuffer\u001b[49m\u001b[43m)\u001b[49m\n",
      "File \u001b[0;32m/usr/local/share/pynq-venv/lib/python3.10/site-packages/pynq/lib/dma.py:138\u001b[0m, in \u001b[0;36m_SDMAChannel.transfer\u001b[0;34m(self, array, start, nbytes)\u001b[0m\n\u001b[1;32m    136\u001b[0m     \u001b[38;5;28;01mraise\u001b[39;00m \u001b[38;5;167;01mRuntimeError\u001b[39;00m(\u001b[38;5;124m\"\u001b[39m\u001b[38;5;124mDMA channel not started\u001b[39m\u001b[38;5;124m\"\u001b[39m)\n\u001b[1;32m    137\u001b[0m \u001b[38;5;28;01mif\u001b[39;00m \u001b[38;5;129;01mnot\u001b[39;00m \u001b[38;5;28mself\u001b[39m\u001b[38;5;241m.\u001b[39midle \u001b[38;5;129;01mand\u001b[39;00m \u001b[38;5;129;01mnot\u001b[39;00m \u001b[38;5;28mself\u001b[39m\u001b[38;5;241m.\u001b[39m_first_transfer:\n\u001b[0;32m--> 138\u001b[0m     \u001b[38;5;28;01mraise\u001b[39;00m \u001b[38;5;167;01mRuntimeError\u001b[39;00m(\u001b[38;5;124m\"\u001b[39m\u001b[38;5;124mDMA channel not idle\u001b[39m\u001b[38;5;124m\"\u001b[39m)\n\u001b[1;32m    139\u001b[0m \u001b[38;5;28;01mif\u001b[39;00m nbytes \u001b[38;5;241m==\u001b[39m \u001b[38;5;241m0\u001b[39m:\n\u001b[1;32m    140\u001b[0m     nbytes \u001b[38;5;241m=\u001b[39m array\u001b[38;5;241m.\u001b[39mnbytes \u001b[38;5;241m-\u001b[39m start\n",
      "\u001b[0;31mRuntimeError\u001b[0m: DMA channel not idle"
     ]
    }
   ],
   "source": [
    "#nrssb.nrssb_application()\n",
    "#nrssb.inspector.constellation_plot()\n",
    "nrssb.inspector.axi_dma.recvchannel.transfer(nrssb.inspector.buffer)"
   ]
  },
  {
   "cell_type": "code",
   "execution_count": 6,
   "id": "2a1e626c-561b-4352-b73f-4ca1c65556bd",
   "metadata": {},
   "outputs": [
    {
     "data": {
      "text/plain": [
       "256"
      ]
     },
     "execution_count": 6,
     "metadata": {},
     "output_type": "execute_result"
    }
   ],
   "source": [
    "nrssb.inspector.buffer.nbytes"
   ]
  },
  {
   "cell_type": "code",
   "execution_count": 7,
   "id": "4ed20207-97e9-443b-bdc4-62a5300de7a4",
   "metadata": {},
   "outputs": [
    {
     "data": {
      "text/plain": [
       "True"
      ]
     },
     "execution_count": 7,
     "metadata": {},
     "output_type": "execute_result"
    }
   ],
   "source": [
    "nrssb.inspector.axi_dma.recvchannel._first_transfer"
   ]
  },
  {
   "cell_type": "code",
   "execution_count": 12,
   "id": "aacdcecd-d1b8-4591-ab01-d6c279480023",
   "metadata": {},
   "outputs": [
    {
     "data": {
      "text/plain": [
       "False"
      ]
     },
     "execution_count": 12,
     "metadata": {},
     "output_type": "execute_result"
    }
   ],
   "source": [
    "nrssb.inspector.axi_dma.recvchannel.idle"
   ]
  },
  {
   "cell_type": "code",
   "execution_count": 9,
   "id": "af30cb39-7bf8-4f26-a5b9-f2b2d887043d",
   "metadata": {},
   "outputs": [
    {
     "data": {
      "text/plain": [
       "True"
      ]
     },
     "execution_count": 9,
     "metadata": {},
     "output_type": "execute_result"
    }
   ],
   "source": [
    "nrssb.inspector.axi_dma.recvchannel.running"
   ]
  },
  {
   "cell_type": "code",
   "execution_count": 10,
   "id": "2e2547c5-c89e-47e1-9405-cfb1d6dba1e9",
   "metadata": {},
   "outputs": [],
   "source": [
    "nrssb.inspector.axi_dma.recvchannel.transfer(nrssb.inspector.buffer)\n",
    "#nrssb.inspector.axi_dma.recvchannel.wait()"
   ]
  },
  {
   "cell_type": "code",
   "execution_count": 11,
   "id": "4906dd5a-9f0a-477e-84eb-d3d67c693237",
   "metadata": {},
   "outputs": [
    {
     "data": {
      "text/plain": [
       "True"
      ]
     },
     "execution_count": 11,
     "metadata": {},
     "output_type": "execute_result"
    }
   ],
   "source": [
    "nrssb.inspector.axi_dma.recvchannel.running"
   ]
  },
  {
   "cell_type": "code",
   "execution_count": 11,
   "id": "dd91ed51-add9-4bf2-b9d1-cf54ec7919be",
   "metadata": {},
   "outputs": [
    {
     "data": {
      "text/plain": [
       "256"
      ]
     },
     "execution_count": 11,
     "metadata": {},
     "output_type": "execute_result"
    }
   ],
   "source": [
    "nrssb.inspector.axi_dma.recvchannel.idle"
   ]
  },
  {
   "cell_type": "code",
   "execution_count": null,
   "id": "557a2d64-359e-4c0e-9c8e-57c45004610b",
   "metadata": {},
   "outputs": [],
   "source": []
  },
  {
   "cell_type": "code",
   "execution_count": 14,
   "id": "f979d1c2-d9dd-47f3-a65b-5a58a3fed4c9",
   "metadata": {},
   "outputs": [
    {
     "data": {
      "text/plain": [
       "False"
      ]
     },
     "execution_count": 14,
     "metadata": {},
     "output_type": "execute_result"
    }
   ],
   "source": [
    "nrssb.inspector.axi_dma.recvchannel._first_transfer"
   ]
  },
  {
   "cell_type": "code",
   "execution_count": 12,
   "id": "e8fae979-840c-4e5d-acaf-37f67b405612",
   "metadata": {},
   "outputs": [
    {
     "data": {
      "text/plain": [
       "PynqBuffer([0, 0, 0, 0, 0, 0, 0, 0, 0, 0, 0, 0, 0, 0, 0, 0, 0, 0, 0, 0, 0,\n",
       "            0, 0, 0, 0, 0, 0, 0, 0, 0, 0, 0, 0, 0, 0, 0, 0, 0, 0, 0, 0, 0,\n",
       "            0, 0, 0, 0, 0, 0, 0, 0, 0, 0, 0, 0, 0, 0, 0, 0, 0, 0, 0, 0, 0,\n",
       "            0, 0, 0, 0, 0, 0, 0, 0, 0, 0, 0, 0, 0, 0, 0, 0, 0, 0, 0, 0, 0,\n",
       "            0, 0, 0, 0, 0, 0, 0, 0, 0, 0, 0, 0, 0, 0, 0, 0, 0, 0, 0, 0, 0,\n",
       "            0, 0, 0, 0, 0, 0, 0, 0, 0, 0, 0, 0, 0, 0, 0, 0, 0, 0, 0, 0, 0,\n",
       "            0, 0], dtype=int16)"
      ]
     },
     "execution_count": 12,
     "metadata": {},
     "output_type": "execute_result"
    }
   ],
   "source": [
    "nrssb.inspector.buffer"
   ]
  },
  {
   "cell_type": "code",
   "execution_count": null,
   "id": "75ae3d1f-13f2-4fe4-8605-1a97cda7a744",
   "metadata": {},
   "outputs": [],
   "source": [
    "nrssb.inspector.axi_dma.recvchannel.stop()"
   ]
  },
  {
   "cell_type": "code",
   "execution_count": 9,
   "id": "f9c594cc-dd46-4aa8-adda-7320715db95d",
   "metadata": {},
   "outputs": [
    {
     "data": {
      "text/plain": [
       "['__class__',\n",
       " '__delattr__',\n",
       " '__dict__',\n",
       " '__dir__',\n",
       " '__doc__',\n",
       " '__eq__',\n",
       " '__format__',\n",
       " '__ge__',\n",
       " '__getattribute__',\n",
       " '__gt__',\n",
       " '__hash__',\n",
       " '__init__',\n",
       " '__init_subclass__',\n",
       " '__le__',\n",
       " '__lt__',\n",
       " '__module__',\n",
       " '__ne__',\n",
       " '__new__',\n",
       " '__reduce__',\n",
       " '__reduce_ex__',\n",
       " '__repr__',\n",
       " '__setattr__',\n",
       " '__sizeof__',\n",
       " '__str__',\n",
       " '__subclasshook__',\n",
       " '__weakref__',\n",
       " '_active_buffer',\n",
       " '_align',\n",
       " '_clear_interrupt',\n",
       " '_dre',\n",
       " '_first_transfer',\n",
       " '_flush_before',\n",
       " '_interrupt',\n",
       " '_max_size',\n",
       " '_mmio',\n",
       " '_offset',\n",
       " '_tx_rx',\n",
       " 'error',\n",
       " 'idle',\n",
       " 'running',\n",
       " 'start',\n",
       " 'stop',\n",
       " 'transfer',\n",
       " 'transferred',\n",
       " 'wait',\n",
       " 'wait_async']"
      ]
     },
     "execution_count": 9,
     "metadata": {},
     "output_type": "execute_result"
    }
   ],
   "source": [
    "dir(nrssb.inspector.axi_dma.recvchannel)"
   ]
  },
  {
   "cell_type": "code",
   "execution_count": 14,
   "id": "0f388e50-b128-4a3a-a8fb-ad3af13c4d03",
   "metadata": {},
   "outputs": [],
   "source": []
  },
  {
   "cell_type": "code",
   "execution_count": null,
   "id": "2423374d-7f38-4ec0-ae0d-c9cfc3175083",
   "metadata": {},
   "outputs": [],
   "source": []
  }
 ],
 "metadata": {
  "extensions": {
   "jupyter_dashboards": {
    "activeView": "grid_default",
    "version": 1,
    "views": {
     "grid_default": {
      "cellMargin": 2,
      "defaultCellHeight": 40,
      "maxColumns": 12,
      "name": "grid",
      "type": "grid"
     }
    }
   }
  },
  "kernelspec": {
   "display_name": "Python 3 (ipykernel)",
   "language": "python",
   "name": "python3"
  },
  "language_info": {
   "codemirror_mode": {
    "name": "ipython",
    "version": 3
   },
   "file_extension": ".py",
   "mimetype": "text/x-python",
   "name": "python",
   "nbconvert_exporter": "python",
   "pygments_lexer": "ipython3",
   "version": "3.10.4"
  }
 },
 "nbformat": 4,
 "nbformat_minor": 5
}
